{
 "cells": [
  {
   "cell_type": "markdown",
   "id": "6a3cf366",
   "metadata": {},
   "source": [
    "Sumber dataset: https://www.kaggle.com/datasets/kumarajarshi/life-expectancy-who"
   ]
  },
  {
   "cell_type": "code",
   "execution_count": 1,
   "id": "68e34f3f",
   "metadata": {},
   "outputs": [],
   "source": [
    "import numpy as np\n",
    "import pandas as pd\n",
    "import matplotlib.pyplot as plt\n",
    "import seaborn as sns"
   ]
  },
  {
   "cell_type": "code",
   "execution_count": 2,
   "id": "0ad9c6ad",
   "metadata": {
    "scrolled": true
   },
   "outputs": [
    {
     "name": "stdout",
     "output_type": "stream",
     "text": [
      "(2938, 22)\n"
     ]
    },
    {
     "data": {
      "text/html": [
       "<div>\n",
       "<style scoped>\n",
       "    .dataframe tbody tr th:only-of-type {\n",
       "        vertical-align: middle;\n",
       "    }\n",
       "\n",
       "    .dataframe tbody tr th {\n",
       "        vertical-align: top;\n",
       "    }\n",
       "\n",
       "    .dataframe thead th {\n",
       "        text-align: right;\n",
       "    }\n",
       "</style>\n",
       "<table border=\"1\" class=\"dataframe\">\n",
       "  <thead>\n",
       "    <tr style=\"text-align: right;\">\n",
       "      <th></th>\n",
       "      <th>Country</th>\n",
       "      <th>Year</th>\n",
       "      <th>Status</th>\n",
       "      <th>Life expectancy</th>\n",
       "      <th>Adult Mortality</th>\n",
       "      <th>infant deaths</th>\n",
       "      <th>Alcohol</th>\n",
       "      <th>percentage expenditure</th>\n",
       "      <th>Hepatitis B</th>\n",
       "      <th>Measles</th>\n",
       "      <th>...</th>\n",
       "      <th>Polio</th>\n",
       "      <th>Total expenditure</th>\n",
       "      <th>Diphtheria</th>\n",
       "      <th>HIV/AIDS</th>\n",
       "      <th>GDP</th>\n",
       "      <th>Population</th>\n",
       "      <th>thinness  1-19 years</th>\n",
       "      <th>thinness 5-9 years</th>\n",
       "      <th>Income composition of resources</th>\n",
       "      <th>Schooling</th>\n",
       "    </tr>\n",
       "  </thead>\n",
       "  <tbody>\n",
       "    <tr>\n",
       "      <th>0</th>\n",
       "      <td>Afghanistan</td>\n",
       "      <td>2015</td>\n",
       "      <td>Developing</td>\n",
       "      <td>65.0</td>\n",
       "      <td>263.0</td>\n",
       "      <td>62</td>\n",
       "      <td>0.01</td>\n",
       "      <td>71.279624</td>\n",
       "      <td>65.0</td>\n",
       "      <td>1154</td>\n",
       "      <td>...</td>\n",
       "      <td>6.0</td>\n",
       "      <td>8.16</td>\n",
       "      <td>65.0</td>\n",
       "      <td>0.1</td>\n",
       "      <td>584.259210</td>\n",
       "      <td>33736494.0</td>\n",
       "      <td>17.2</td>\n",
       "      <td>17.3</td>\n",
       "      <td>0.479</td>\n",
       "      <td>10.1</td>\n",
       "    </tr>\n",
       "    <tr>\n",
       "      <th>1</th>\n",
       "      <td>Afghanistan</td>\n",
       "      <td>2014</td>\n",
       "      <td>Developing</td>\n",
       "      <td>59.9</td>\n",
       "      <td>271.0</td>\n",
       "      <td>64</td>\n",
       "      <td>0.01</td>\n",
       "      <td>73.523582</td>\n",
       "      <td>62.0</td>\n",
       "      <td>492</td>\n",
       "      <td>...</td>\n",
       "      <td>58.0</td>\n",
       "      <td>8.18</td>\n",
       "      <td>62.0</td>\n",
       "      <td>0.1</td>\n",
       "      <td>612.696514</td>\n",
       "      <td>327582.0</td>\n",
       "      <td>17.5</td>\n",
       "      <td>17.5</td>\n",
       "      <td>0.476</td>\n",
       "      <td>10.0</td>\n",
       "    </tr>\n",
       "    <tr>\n",
       "      <th>2</th>\n",
       "      <td>Afghanistan</td>\n",
       "      <td>2013</td>\n",
       "      <td>Developing</td>\n",
       "      <td>59.9</td>\n",
       "      <td>268.0</td>\n",
       "      <td>66</td>\n",
       "      <td>0.01</td>\n",
       "      <td>73.219243</td>\n",
       "      <td>64.0</td>\n",
       "      <td>430</td>\n",
       "      <td>...</td>\n",
       "      <td>62.0</td>\n",
       "      <td>8.13</td>\n",
       "      <td>64.0</td>\n",
       "      <td>0.1</td>\n",
       "      <td>631.744976</td>\n",
       "      <td>31731688.0</td>\n",
       "      <td>17.7</td>\n",
       "      <td>17.7</td>\n",
       "      <td>0.470</td>\n",
       "      <td>9.9</td>\n",
       "    </tr>\n",
       "    <tr>\n",
       "      <th>3</th>\n",
       "      <td>Afghanistan</td>\n",
       "      <td>2012</td>\n",
       "      <td>Developing</td>\n",
       "      <td>59.5</td>\n",
       "      <td>272.0</td>\n",
       "      <td>69</td>\n",
       "      <td>0.01</td>\n",
       "      <td>78.184215</td>\n",
       "      <td>67.0</td>\n",
       "      <td>2787</td>\n",
       "      <td>...</td>\n",
       "      <td>67.0</td>\n",
       "      <td>8.52</td>\n",
       "      <td>67.0</td>\n",
       "      <td>0.1</td>\n",
       "      <td>669.959000</td>\n",
       "      <td>3696958.0</td>\n",
       "      <td>17.9</td>\n",
       "      <td>18.0</td>\n",
       "      <td>0.463</td>\n",
       "      <td>9.8</td>\n",
       "    </tr>\n",
       "    <tr>\n",
       "      <th>4</th>\n",
       "      <td>Afghanistan</td>\n",
       "      <td>2011</td>\n",
       "      <td>Developing</td>\n",
       "      <td>59.2</td>\n",
       "      <td>275.0</td>\n",
       "      <td>71</td>\n",
       "      <td>0.01</td>\n",
       "      <td>7.097109</td>\n",
       "      <td>68.0</td>\n",
       "      <td>3013</td>\n",
       "      <td>...</td>\n",
       "      <td>68.0</td>\n",
       "      <td>7.87</td>\n",
       "      <td>68.0</td>\n",
       "      <td>0.1</td>\n",
       "      <td>63.537231</td>\n",
       "      <td>2978599.0</td>\n",
       "      <td>18.2</td>\n",
       "      <td>18.2</td>\n",
       "      <td>0.454</td>\n",
       "      <td>9.5</td>\n",
       "    </tr>\n",
       "  </tbody>\n",
       "</table>\n",
       "<p>5 rows × 22 columns</p>\n",
       "</div>"
      ],
      "text/plain": [
       "       Country  Year      Status  Life expectancy   Adult Mortality  \\\n",
       "0  Afghanistan  2015  Developing              65.0            263.0   \n",
       "1  Afghanistan  2014  Developing              59.9            271.0   \n",
       "2  Afghanistan  2013  Developing              59.9            268.0   \n",
       "3  Afghanistan  2012  Developing              59.5            272.0   \n",
       "4  Afghanistan  2011  Developing              59.2            275.0   \n",
       "\n",
       "   infant deaths  Alcohol  percentage expenditure  Hepatitis B  Measles   ...  \\\n",
       "0             62     0.01               71.279624         65.0      1154  ...   \n",
       "1             64     0.01               73.523582         62.0       492  ...   \n",
       "2             66     0.01               73.219243         64.0       430  ...   \n",
       "3             69     0.01               78.184215         67.0      2787  ...   \n",
       "4             71     0.01                7.097109         68.0      3013  ...   \n",
       "\n",
       "   Polio  Total expenditure  Diphtheria    HIV/AIDS         GDP  Population  \\\n",
       "0    6.0               8.16         65.0        0.1  584.259210  33736494.0   \n",
       "1   58.0               8.18         62.0        0.1  612.696514    327582.0   \n",
       "2   62.0               8.13         64.0        0.1  631.744976  31731688.0   \n",
       "3   67.0               8.52         67.0        0.1  669.959000   3696958.0   \n",
       "4   68.0               7.87         68.0        0.1   63.537231   2978599.0   \n",
       "\n",
       "    thinness  1-19 years   thinness 5-9 years  \\\n",
       "0                   17.2                 17.3   \n",
       "1                   17.5                 17.5   \n",
       "2                   17.7                 17.7   \n",
       "3                   17.9                 18.0   \n",
       "4                   18.2                 18.2   \n",
       "\n",
       "   Income composition of resources  Schooling  \n",
       "0                            0.479       10.1  \n",
       "1                            0.476       10.0  \n",
       "2                            0.470        9.9  \n",
       "3                            0.463        9.8  \n",
       "4                            0.454        9.5  \n",
       "\n",
       "[5 rows x 22 columns]"
      ]
     },
     "execution_count": 2,
     "metadata": {},
     "output_type": "execute_result"
    }
   ],
   "source": [
    "df = pd.read_csv('datasets/life_expectancy.csv')\n",
    "print(df.shape)\n",
    "df.head()"
   ]
  },
  {
   "cell_type": "markdown",
   "id": "e5d2afc0",
   "metadata": {},
   "source": [
    "Ambil data tahun 2015."
   ]
  },
  {
   "cell_type": "code",
   "execution_count": 3,
   "id": "708c1055",
   "metadata": {},
   "outputs": [
    {
     "name": "stdout",
     "output_type": "stream",
     "text": [
      "(183, 22)\n"
     ]
    },
    {
     "data": {
      "text/html": [
       "<div>\n",
       "<style scoped>\n",
       "    .dataframe tbody tr th:only-of-type {\n",
       "        vertical-align: middle;\n",
       "    }\n",
       "\n",
       "    .dataframe tbody tr th {\n",
       "        vertical-align: top;\n",
       "    }\n",
       "\n",
       "    .dataframe thead th {\n",
       "        text-align: right;\n",
       "    }\n",
       "</style>\n",
       "<table border=\"1\" class=\"dataframe\">\n",
       "  <thead>\n",
       "    <tr style=\"text-align: right;\">\n",
       "      <th></th>\n",
       "      <th>Country</th>\n",
       "      <th>Year</th>\n",
       "      <th>Status</th>\n",
       "      <th>Life expectancy</th>\n",
       "      <th>Adult Mortality</th>\n",
       "      <th>infant deaths</th>\n",
       "      <th>Alcohol</th>\n",
       "      <th>percentage expenditure</th>\n",
       "      <th>Hepatitis B</th>\n",
       "      <th>Measles</th>\n",
       "      <th>...</th>\n",
       "      <th>Polio</th>\n",
       "      <th>Total expenditure</th>\n",
       "      <th>Diphtheria</th>\n",
       "      <th>HIV/AIDS</th>\n",
       "      <th>GDP</th>\n",
       "      <th>Population</th>\n",
       "      <th>thinness  1-19 years</th>\n",
       "      <th>thinness 5-9 years</th>\n",
       "      <th>Income composition of resources</th>\n",
       "      <th>Schooling</th>\n",
       "    </tr>\n",
       "  </thead>\n",
       "  <tbody>\n",
       "    <tr>\n",
       "      <th>0</th>\n",
       "      <td>Afghanistan</td>\n",
       "      <td>2015</td>\n",
       "      <td>Developing</td>\n",
       "      <td>65.0</td>\n",
       "      <td>263.0</td>\n",
       "      <td>62</td>\n",
       "      <td>0.01</td>\n",
       "      <td>71.279624</td>\n",
       "      <td>65.0</td>\n",
       "      <td>1154</td>\n",
       "      <td>...</td>\n",
       "      <td>6.0</td>\n",
       "      <td>8.16</td>\n",
       "      <td>65.0</td>\n",
       "      <td>0.1</td>\n",
       "      <td>584.259210</td>\n",
       "      <td>33736494.0</td>\n",
       "      <td>17.2</td>\n",
       "      <td>17.3</td>\n",
       "      <td>0.479</td>\n",
       "      <td>10.1</td>\n",
       "    </tr>\n",
       "    <tr>\n",
       "      <th>16</th>\n",
       "      <td>Albania</td>\n",
       "      <td>2015</td>\n",
       "      <td>Developing</td>\n",
       "      <td>77.8</td>\n",
       "      <td>74.0</td>\n",
       "      <td>0</td>\n",
       "      <td>4.60</td>\n",
       "      <td>364.975229</td>\n",
       "      <td>99.0</td>\n",
       "      <td>0</td>\n",
       "      <td>...</td>\n",
       "      <td>99.0</td>\n",
       "      <td>6.00</td>\n",
       "      <td>99.0</td>\n",
       "      <td>0.1</td>\n",
       "      <td>3954.227830</td>\n",
       "      <td>28873.0</td>\n",
       "      <td>1.2</td>\n",
       "      <td>1.3</td>\n",
       "      <td>0.762</td>\n",
       "      <td>14.2</td>\n",
       "    </tr>\n",
       "    <tr>\n",
       "      <th>32</th>\n",
       "      <td>Algeria</td>\n",
       "      <td>2015</td>\n",
       "      <td>Developing</td>\n",
       "      <td>75.6</td>\n",
       "      <td>19.0</td>\n",
       "      <td>21</td>\n",
       "      <td>NaN</td>\n",
       "      <td>0.000000</td>\n",
       "      <td>95.0</td>\n",
       "      <td>63</td>\n",
       "      <td>...</td>\n",
       "      <td>95.0</td>\n",
       "      <td>NaN</td>\n",
       "      <td>95.0</td>\n",
       "      <td>0.1</td>\n",
       "      <td>4132.762920</td>\n",
       "      <td>39871528.0</td>\n",
       "      <td>6.0</td>\n",
       "      <td>5.8</td>\n",
       "      <td>0.743</td>\n",
       "      <td>14.4</td>\n",
       "    </tr>\n",
       "    <tr>\n",
       "      <th>48</th>\n",
       "      <td>Angola</td>\n",
       "      <td>2015</td>\n",
       "      <td>Developing</td>\n",
       "      <td>52.4</td>\n",
       "      <td>335.0</td>\n",
       "      <td>66</td>\n",
       "      <td>NaN</td>\n",
       "      <td>0.000000</td>\n",
       "      <td>64.0</td>\n",
       "      <td>118</td>\n",
       "      <td>...</td>\n",
       "      <td>7.0</td>\n",
       "      <td>NaN</td>\n",
       "      <td>64.0</td>\n",
       "      <td>1.9</td>\n",
       "      <td>3695.793748</td>\n",
       "      <td>2785935.0</td>\n",
       "      <td>8.3</td>\n",
       "      <td>8.2</td>\n",
       "      <td>0.531</td>\n",
       "      <td>11.4</td>\n",
       "    </tr>\n",
       "    <tr>\n",
       "      <th>64</th>\n",
       "      <td>Antigua and Barbuda</td>\n",
       "      <td>2015</td>\n",
       "      <td>Developing</td>\n",
       "      <td>76.4</td>\n",
       "      <td>13.0</td>\n",
       "      <td>0</td>\n",
       "      <td>NaN</td>\n",
       "      <td>0.000000</td>\n",
       "      <td>99.0</td>\n",
       "      <td>0</td>\n",
       "      <td>...</td>\n",
       "      <td>86.0</td>\n",
       "      <td>NaN</td>\n",
       "      <td>99.0</td>\n",
       "      <td>0.2</td>\n",
       "      <td>13566.954100</td>\n",
       "      <td>NaN</td>\n",
       "      <td>3.3</td>\n",
       "      <td>3.3</td>\n",
       "      <td>0.784</td>\n",
       "      <td>13.9</td>\n",
       "    </tr>\n",
       "  </tbody>\n",
       "</table>\n",
       "<p>5 rows × 22 columns</p>\n",
       "</div>"
      ],
      "text/plain": [
       "                Country  Year      Status  Life expectancy   Adult Mortality  \\\n",
       "0           Afghanistan  2015  Developing              65.0            263.0   \n",
       "16              Albania  2015  Developing              77.8             74.0   \n",
       "32              Algeria  2015  Developing              75.6             19.0   \n",
       "48               Angola  2015  Developing              52.4            335.0   \n",
       "64  Antigua and Barbuda  2015  Developing              76.4             13.0   \n",
       "\n",
       "    infant deaths  Alcohol  percentage expenditure  Hepatitis B  Measles   \\\n",
       "0              62     0.01               71.279624         65.0      1154   \n",
       "16              0     4.60              364.975229         99.0         0   \n",
       "32             21      NaN                0.000000         95.0        63   \n",
       "48             66      NaN                0.000000         64.0       118   \n",
       "64              0      NaN                0.000000         99.0         0   \n",
       "\n",
       "    ...  Polio  Total expenditure  Diphtheria    HIV/AIDS           GDP  \\\n",
       "0   ...    6.0               8.16         65.0        0.1    584.259210   \n",
       "16  ...   99.0               6.00         99.0        0.1   3954.227830   \n",
       "32  ...   95.0                NaN         95.0        0.1   4132.762920   \n",
       "48  ...    7.0                NaN         64.0        1.9   3695.793748   \n",
       "64  ...   86.0                NaN         99.0        0.2  13566.954100   \n",
       "\n",
       "    Population   thinness  1-19 years   thinness 5-9 years  \\\n",
       "0   33736494.0                   17.2                 17.3   \n",
       "16     28873.0                    1.2                  1.3   \n",
       "32  39871528.0                    6.0                  5.8   \n",
       "48   2785935.0                    8.3                  8.2   \n",
       "64         NaN                    3.3                  3.3   \n",
       "\n",
       "    Income composition of resources  Schooling  \n",
       "0                             0.479       10.1  \n",
       "16                            0.762       14.2  \n",
       "32                            0.743       14.4  \n",
       "48                            0.531       11.4  \n",
       "64                            0.784       13.9  \n",
       "\n",
       "[5 rows x 22 columns]"
      ]
     },
     "execution_count": 3,
     "metadata": {},
     "output_type": "execute_result"
    }
   ],
   "source": [
    "df15 = df[df['Year'] == 2015]\n",
    "print(df15.shape)\n",
    "df15.head()"
   ]
  },
  {
   "cell_type": "code",
   "execution_count": 4,
   "id": "0ec7c09b",
   "metadata": {},
   "outputs": [
    {
     "data": {
      "text/plain": [
       "Developing    151\n",
       "Developed      32\n",
       "Name: Status, dtype: int64"
      ]
     },
     "execution_count": 4,
     "metadata": {},
     "output_type": "execute_result"
    }
   ],
   "source": [
    "developing_developed = df15['Status'].value_counts()\n",
    "developing_developed"
   ]
  },
  {
   "cell_type": "code",
   "execution_count": 5,
   "id": "eebc0126",
   "metadata": {
    "scrolled": false
   },
   "outputs": [
    {
     "data": {
      "image/png": "[encoded data removed]",
      "text/plain": [
       "<Figure size 360x360 with 1 Axes>"
      ]
     },
     "metadata": {},
     "output_type": "display_data"
    }
   ],
   "source": [
    "colors = ['#4EADAF', '#88DEB0']\n",
    "labels = ['Developing', 'Developed']\n",
    "\n",
    "plt.figure(figsize=(5,5))\n",
    "plt.title('Persentase negara maju (developed) dan negara berkembang (developing) tahun 2015')\n",
    "plt.pie(developing_developed, colors=colors, labels=labels, \n",
    "        autopct='%1.1f%%', textprops={'fontsize': 12})\n",
    "plt.show()"
   ]
  },
  {
   "cell_type": "code",
   "execution_count": 6,
   "id": "abd1c3ed",
   "metadata": {
    "scrolled": true
   },
   "outputs": [
    {
     "data": {
      "text/html": [
       "<div>\n",
       "<style scoped>\n",
       "    .dataframe tbody tr th:only-of-type {\n",
       "        vertical-align: middle;\n",
       "    }\n",
       "\n",
       "    .dataframe tbody tr th {\n",
       "        vertical-align: top;\n",
       "    }\n",
       "\n",
       "    .dataframe thead th {\n",
       "        text-align: right;\n",
       "    }\n",
       "</style>\n",
       "<table border=\"1\" class=\"dataframe\">\n",
       "  <thead>\n",
       "    <tr style=\"text-align: right;\">\n",
       "      <th></th>\n",
       "      <th>Country</th>\n",
       "      <th>Year</th>\n",
       "      <th>Status</th>\n",
       "      <th>Life expectancy</th>\n",
       "      <th>Adult Mortality</th>\n",
       "      <th>infant deaths</th>\n",
       "      <th>Alcohol</th>\n",
       "      <th>percentage expenditure</th>\n",
       "      <th>Hepatitis B</th>\n",
       "      <th>Measles</th>\n",
       "      <th>...</th>\n",
       "      <th>Polio</th>\n",
       "      <th>Total expenditure</th>\n",
       "      <th>Diphtheria</th>\n",
       "      <th>HIV/AIDS</th>\n",
       "      <th>GDP</th>\n",
       "      <th>Population</th>\n",
       "      <th>thinness  1-19 years</th>\n",
       "      <th>thinness 5-9 years</th>\n",
       "      <th>Income composition of resources</th>\n",
       "      <th>Schooling</th>\n",
       "    </tr>\n",
       "  </thead>\n",
       "  <tbody>\n",
       "    <tr>\n",
       "      <th>2297</th>\n",
       "      <td>Sierra Leone</td>\n",
       "      <td>2015</td>\n",
       "      <td>Developing</td>\n",
       "      <td>51.0</td>\n",
       "      <td>413.0</td>\n",
       "      <td>22</td>\n",
       "      <td>NaN</td>\n",
       "      <td>0.0</td>\n",
       "      <td>86.0</td>\n",
       "      <td>607</td>\n",
       "      <td>...</td>\n",
       "      <td>86.0</td>\n",
       "      <td>NaN</td>\n",
       "      <td>86.0</td>\n",
       "      <td>0.5</td>\n",
       "      <td>587.538233</td>\n",
       "      <td>723725.0</td>\n",
       "      <td>7.4</td>\n",
       "      <td>7.3</td>\n",
       "      <td>0.431</td>\n",
       "      <td>9.5</td>\n",
       "    </tr>\n",
       "    <tr>\n",
       "      <th>48</th>\n",
       "      <td>Angola</td>\n",
       "      <td>2015</td>\n",
       "      <td>Developing</td>\n",
       "      <td>52.4</td>\n",
       "      <td>335.0</td>\n",
       "      <td>66</td>\n",
       "      <td>NaN</td>\n",
       "      <td>0.0</td>\n",
       "      <td>64.0</td>\n",
       "      <td>118</td>\n",
       "      <td>...</td>\n",
       "      <td>7.0</td>\n",
       "      <td>NaN</td>\n",
       "      <td>64.0</td>\n",
       "      <td>1.9</td>\n",
       "      <td>3695.793748</td>\n",
       "      <td>2785935.0</td>\n",
       "      <td>8.3</td>\n",
       "      <td>8.2</td>\n",
       "      <td>0.531</td>\n",
       "      <td>11.4</td>\n",
       "    </tr>\n",
       "    <tr>\n",
       "      <th>512</th>\n",
       "      <td>Central African Republic</td>\n",
       "      <td>2015</td>\n",
       "      <td>Developing</td>\n",
       "      <td>52.5</td>\n",
       "      <td>397.0</td>\n",
       "      <td>15</td>\n",
       "      <td>NaN</td>\n",
       "      <td>0.0</td>\n",
       "      <td>47.0</td>\n",
       "      <td>150</td>\n",
       "      <td>...</td>\n",
       "      <td>47.0</td>\n",
       "      <td>NaN</td>\n",
       "      <td>47.0</td>\n",
       "      <td>4.4</td>\n",
       "      <td>348.381417</td>\n",
       "      <td>45461.0</td>\n",
       "      <td>8.2</td>\n",
       "      <td>8.2</td>\n",
       "      <td>0.347</td>\n",
       "      <td>7.1</td>\n",
       "    </tr>\n",
       "    <tr>\n",
       "      <th>528</th>\n",
       "      <td>Chad</td>\n",
       "      <td>2015</td>\n",
       "      <td>Developing</td>\n",
       "      <td>53.1</td>\n",
       "      <td>356.0</td>\n",
       "      <td>46</td>\n",
       "      <td>NaN</td>\n",
       "      <td>0.0</td>\n",
       "      <td>46.0</td>\n",
       "      <td>418</td>\n",
       "      <td>...</td>\n",
       "      <td>52.0</td>\n",
       "      <td>NaN</td>\n",
       "      <td>46.0</td>\n",
       "      <td>2.8</td>\n",
       "      <td>777.248751</td>\n",
       "      <td>149413.0</td>\n",
       "      <td>8.5</td>\n",
       "      <td>8.4</td>\n",
       "      <td>0.394</td>\n",
       "      <td>7.3</td>\n",
       "    </tr>\n",
       "    <tr>\n",
       "      <th>432</th>\n",
       "      <td>Côte d'Ivoire</td>\n",
       "      <td>2015</td>\n",
       "      <td>Developing</td>\n",
       "      <td>53.3</td>\n",
       "      <td>397.0</td>\n",
       "      <td>57</td>\n",
       "      <td>NaN</td>\n",
       "      <td>0.0</td>\n",
       "      <td>83.0</td>\n",
       "      <td>65</td>\n",
       "      <td>...</td>\n",
       "      <td>81.0</td>\n",
       "      <td>NaN</td>\n",
       "      <td>83.0</td>\n",
       "      <td>1.9</td>\n",
       "      <td>NaN</td>\n",
       "      <td>NaN</td>\n",
       "      <td>5.5</td>\n",
       "      <td>5.5</td>\n",
       "      <td>NaN</td>\n",
       "      <td>NaN</td>\n",
       "    </tr>\n",
       "  </tbody>\n",
       "</table>\n",
       "<p>5 rows × 22 columns</p>\n",
       "</div>"
      ],
      "text/plain": [
       "                       Country  Year      Status  Life expectancy   \\\n",
       "2297              Sierra Leone  2015  Developing              51.0   \n",
       "48                      Angola  2015  Developing              52.4   \n",
       "512   Central African Republic  2015  Developing              52.5   \n",
       "528                       Chad  2015  Developing              53.1   \n",
       "432              Côte d'Ivoire  2015  Developing              53.3   \n",
       "\n",
       "      Adult Mortality  infant deaths  Alcohol  percentage expenditure  \\\n",
       "2297            413.0             22      NaN                     0.0   \n",
       "48              335.0             66      NaN                     0.0   \n",
       "512             397.0             15      NaN                     0.0   \n",
       "528             356.0             46      NaN                     0.0   \n",
       "432             397.0             57      NaN                     0.0   \n",
       "\n",
       "      Hepatitis B  Measles   ...  Polio  Total expenditure  Diphtheria   \\\n",
       "2297         86.0       607  ...   86.0                NaN         86.0   \n",
       "48           64.0       118  ...    7.0                NaN         64.0   \n",
       "512          47.0       150  ...   47.0                NaN         47.0   \n",
       "528          46.0       418  ...   52.0                NaN         46.0   \n",
       "432          83.0        65  ...   81.0                NaN         83.0   \n",
       "\n",
       "       HIV/AIDS          GDP  Population   thinness  1-19 years  \\\n",
       "2297        0.5   587.538233    723725.0                    7.4   \n",
       "48          1.9  3695.793748   2785935.0                    8.3   \n",
       "512         4.4   348.381417     45461.0                    8.2   \n",
       "528         2.8   777.248751    149413.0                    8.5   \n",
       "432         1.9          NaN         NaN                    5.5   \n",
       "\n",
       "       thinness 5-9 years  Income composition of resources  Schooling  \n",
       "2297                  7.3                            0.431        9.5  \n",
       "48                    8.2                            0.531       11.4  \n",
       "512                   8.2                            0.347        7.1  \n",
       "528                   8.4                            0.394        7.3  \n",
       "432                   5.5                              NaN        NaN  \n",
       "\n",
       "[5 rows x 22 columns]"
      ]
     },
     "execution_count": 6,
     "metadata": {},
     "output_type": "execute_result"
    }
   ],
   "source": [
    "life_exp = df15.sort_values(by='Life expectancy ')\n",
    "life_exp.head()"
   ]
  },
  {
   "cell_type": "code",
   "execution_count": 7,
   "id": "8b1fdb69",
   "metadata": {},
   "outputs": [
    {
     "name": "stdout",
     "output_type": "stream",
     "text": [
      "['Republic of Korea' 'Sweden' 'France' 'Israel' 'Iceland' 'Italy'\n",
      " 'Australia' 'Spain' 'Singapore' 'Switzerland' 'Japan' 'Cyprus' 'Chile'\n",
      " 'Denmark' 'Slovenia']\n",
      "[82.3 82.4 82.4 82.5 82.7 82.7 82.8 82.8 83.1 83.4 83.7 85.  85.  86.\n",
      " 88. ]\n"
     ]
    }
   ],
   "source": [
    "life_exp_country = life_exp[-15:]['Country'].values\n",
    "life_exp_age = life_exp[-15:]['Life expectancy '].values\n",
    "\n",
    "print(life_exp_country)\n",
    "print(life_exp_age)"
   ]
  },
  {
   "cell_type": "code",
   "execution_count": 8,
   "id": "7847d4f6",
   "metadata": {},
   "outputs": [
    {
     "data": {
      "image/png": "[encoded data removed]",
      "text/plain": [
       "<Figure size 864x504 with 1 Axes>"
      ]
     },
     "metadata": {
      "needs_background": "light"
     },
     "output_type": "display_data"
    }
   ],
   "source": [
    "plt.figure(figsize=(12,7))\n",
    "\n",
    "plt.title('15 negara dengan angka harapan hidup tertinggi (2015)')\n",
    "plt.barh(life_exp_country, life_exp_age,\n",
    "         zorder=2, color=['#88DEB0']*15, edgecolor='#152069')\n",
    "plt.grid(zorder=1)\n",
    "plt.xlabel('Tahun')\n",
    "\n",
    "for i in range(15):\n",
    "    plt.text(life_exp_age[i]-5, i-0.15, life_exp_age[i], fontsize=13)\n",
    "\n",
    "plt.show()"
   ]
  },
  {
   "cell_type": "code",
   "execution_count": 9,
   "id": "e6bc78bb",
   "metadata": {},
   "outputs": [
    {
     "data": {
      "text/html": [
       "<div>\n",
       "<style scoped>\n",
       "    .dataframe tbody tr th:only-of-type {\n",
       "        vertical-align: middle;\n",
       "    }\n",
       "\n",
       "    .dataframe tbody tr th {\n",
       "        vertical-align: top;\n",
       "    }\n",
       "\n",
       "    .dataframe thead th {\n",
       "        text-align: right;\n",
       "    }\n",
       "</style>\n",
       "<table border=\"1\" class=\"dataframe\">\n",
       "  <thead>\n",
       "    <tr style=\"text-align: right;\">\n",
       "      <th></th>\n",
       "      <th>Country</th>\n",
       "      <th>Year</th>\n",
       "      <th>GDP</th>\n",
       "    </tr>\n",
       "  </thead>\n",
       "  <tbody>\n",
       "    <tr>\n",
       "      <th>416</th>\n",
       "      <td>Burundi</td>\n",
       "      <td>2015</td>\n",
       "      <td>33.681223</td>\n",
       "    </tr>\n",
       "    <tr>\n",
       "      <th>1554</th>\n",
       "      <td>Madagascar</td>\n",
       "      <td>2015</td>\n",
       "      <td>41.857595</td>\n",
       "    </tr>\n",
       "    <tr>\n",
       "      <th>144</th>\n",
       "      <td>Azerbaijan</td>\n",
       "      <td>2015</td>\n",
       "      <td>55.313820</td>\n",
       "    </tr>\n",
       "    <tr>\n",
       "      <th>2007</th>\n",
       "      <td>Peru</td>\n",
       "      <td>2015</td>\n",
       "      <td>63.343259</td>\n",
       "    </tr>\n",
       "    <tr>\n",
       "      <th>2151</th>\n",
       "      <td>Rwanda</td>\n",
       "      <td>2015</td>\n",
       "      <td>71.348397</td>\n",
       "    </tr>\n",
       "  </tbody>\n",
       "</table>\n",
       "</div>"
      ],
      "text/plain": [
       "         Country  Year        GDP\n",
       "416      Burundi  2015  33.681223\n",
       "1554  Madagascar  2015  41.857595\n",
       "144   Azerbaijan  2015  55.313820\n",
       "2007        Peru  2015  63.343259\n",
       "2151      Rwanda  2015  71.348397"
      ]
     },
     "execution_count": 9,
     "metadata": {},
     "output_type": "execute_result"
    }
   ],
   "source": [
    "gdp = df15.sort_values(by='GDP')\n",
    "gdp.head()[['Country', 'Year', 'GDP']]"
   ]
  },
  {
   "cell_type": "code",
   "execution_count": 10,
   "id": "bbcbeca7",
   "metadata": {},
   "outputs": [
    {
     "name": "stdout",
     "output_type": "stream",
     "text": [
      "['Micronesia (Federated States of)' 'Papua New Guinea' 'Republic of Korea'\n",
      " 'Republic of Moldova' 'Saint Lucia' 'Saint Vincent and the Grenadines'\n",
      " 'Slovakia' 'Syrian Arab Republic'\n",
      " 'The former Yugoslav republic of Macedonia'\n",
      " 'United Kingdom of Great Britain and Northern Ireland'\n",
      " 'United Republic of Tanzania' 'United States of America'\n",
      " 'Venezuela (Bolivarian Republic of)' 'Viet Nam' 'Yemen']\n",
      "[nan nan nan nan nan nan nan nan nan nan nan nan nan nan nan]\n"
     ]
    }
   ],
   "source": [
    "gdp_country = gdp[-15:]['Country'].values\n",
    "gdp_gdp = gdp[-15:]['GDP'].values\n",
    "\n",
    "print(gdp_country)\n",
    "print(gdp_gdp)"
   ]
  },
  {
   "cell_type": "code",
   "execution_count": 11,
   "id": "83df5428",
   "metadata": {},
   "outputs": [
    {
     "name": "stdout",
     "output_type": "stream",
     "text": [
      "Sebelum drop: (183, 22)\n",
      "Setelah drop: (154, 22)\n"
     ]
    }
   ],
   "source": [
    "print('Sebelum drop:', gdp.shape)\n",
    "gdp = gdp[gdp['GDP'].notna()]\n",
    "print('Setelah drop:', gdp.shape)"
   ]
  },
  {
   "cell_type": "code",
   "execution_count": 12,
   "id": "1ec1e950",
   "metadata": {},
   "outputs": [
    {
     "name": "stdout",
     "output_type": "stream",
     "text": [
      "['Trinidad and Tobago' 'Bahrain' 'Malta' 'Spain' 'Kuwait' 'Japan' 'Israel'\n",
      " 'France' 'Germany' 'Canada' 'Austria' 'Netherlands' 'Singapore'\n",
      " 'Australia' 'Qatar']\n",
      "[17321.83373 22688.87824 23819.4636  25683.84565 28975.418   34474.13736\n",
      " 35729.37253 36526.7711  41176.88158 43315.744   43665.947   44292.88473\n",
      " 53629.73746 56554.3876  66346.52267]\n"
     ]
    }
   ],
   "source": [
    "gdp_country = gdp[-15:]['Country'].values\n",
    "gdp_gdp = gdp[-15:]['GDP'].values\n",
    "\n",
    "print(gdp_country)\n",
    "print(gdp_gdp)"
   ]
  },
  {
   "cell_type": "code",
   "execution_count": 13,
   "id": "5eb3fda5",
   "metadata": {},
   "outputs": [
    {
     "data": {
      "image/png": "[encoded data removed]",
      "text/plain": [
       "<Figure size 864x504 with 1 Axes>"
      ]
     },
     "metadata": {
      "needs_background": "light"
     },
     "output_type": "display_data"
    }
   ],
   "source": [
    "plt.figure(figsize=(12,7))\n",
    "\n",
    "plt.title('15 negara dengan GDP (PDB) tertinggi (2015)')\n",
    "plt.barh(gdp_country, gdp_gdp, \n",
    "         zorder=2, color=['#377A98']*15)\n",
    "plt.grid(zorder=1)\n",
    "\n",
    "plt.xlabel('USD')\n",
    "\n",
    "for i in range(15):\n",
    "    plt.text(gdp_gdp[i]-5000, i-0.15, int(np.round(gdp_gdp[i])), fontsize=13, c='white')\n",
    "\n",
    "plt.show()"
   ]
  },
  {
   "cell_type": "code",
   "execution_count": 14,
   "id": "3f748553",
   "metadata": {
    "scrolled": false
   },
   "outputs": [
    {
     "data": {
      "text/html": [
       "<div>\n",
       "<style scoped>\n",
       "    .dataframe tbody tr th:only-of-type {\n",
       "        vertical-align: middle;\n",
       "    }\n",
       "\n",
       "    .dataframe tbody tr th {\n",
       "        vertical-align: top;\n",
       "    }\n",
       "\n",
       "    .dataframe thead th {\n",
       "        text-align: right;\n",
       "    }\n",
       "</style>\n",
       "<table border=\"1\" class=\"dataframe\">\n",
       "  <thead>\n",
       "    <tr style=\"text-align: right;\">\n",
       "      <th></th>\n",
       "      <th>Country</th>\n",
       "      <th>Year</th>\n",
       "      <th>Population</th>\n",
       "    </tr>\n",
       "  </thead>\n",
       "  <tbody>\n",
       "    <tr>\n",
       "      <th>2441</th>\n",
       "      <td>Sri Lanka</td>\n",
       "      <td>2015</td>\n",
       "      <td>2966.0</td>\n",
       "    </tr>\n",
       "    <tr>\n",
       "      <th>1266</th>\n",
       "      <td>Israel</td>\n",
       "      <td>2015</td>\n",
       "      <td>8381.0</td>\n",
       "    </tr>\n",
       "    <tr>\n",
       "      <th>1378</th>\n",
       "      <td>Kiribati</td>\n",
       "      <td>2015</td>\n",
       "      <td>11247.0</td>\n",
       "    </tr>\n",
       "    <tr>\n",
       "      <th>2649</th>\n",
       "      <td>Trinidad and Tobago</td>\n",
       "      <td>2015</td>\n",
       "      <td>13692.0</td>\n",
       "    </tr>\n",
       "    <tr>\n",
       "      <th>2633</th>\n",
       "      <td>Tonga</td>\n",
       "      <td>2015</td>\n",
       "      <td>16364.0</td>\n",
       "    </tr>\n",
       "  </tbody>\n",
       "</table>\n",
       "</div>"
      ],
      "text/plain": [
       "                  Country  Year  Population\n",
       "2441            Sri Lanka  2015      2966.0\n",
       "1266               Israel  2015      8381.0\n",
       "1378             Kiribati  2015     11247.0\n",
       "2649  Trinidad and Tobago  2015     13692.0\n",
       "2633                Tonga  2015     16364.0"
      ]
     },
     "execution_count": 14,
     "metadata": {},
     "output_type": "execute_result"
    }
   ],
   "source": [
    "pop = df15.sort_values(by='Population')\n",
    "pop.head()[['Country', 'Year', 'Population']]"
   ]
  },
  {
   "cell_type": "code",
   "execution_count": 15,
   "id": "44d84a41",
   "metadata": {},
   "outputs": [
    {
     "name": "stdout",
     "output_type": "stream",
     "text": [
      "Sebelum drop: (183, 22)\n",
      "Setelah drop: (142, 22)\n"
     ]
    }
   ],
   "source": [
    "print('Sebelum drop:', pop.shape)\n",
    "pop = pop[pop['Population'].notna()]\n",
    "print('Setelah drop:', pop.shape)"
   ]
  },
  {
   "cell_type": "code",
   "execution_count": 16,
   "id": "cbad00b4",
   "metadata": {},
   "outputs": [
    {
     "name": "stdout",
     "output_type": "stream",
     "text": [
      "['Ghana' 'Nepal' 'Peru' 'Afghanistan' 'Iraq' 'Poland' 'Algeria'\n",
      " 'Argentina' 'Spain' 'Kenya' 'Colombia' 'Turkey' 'Germany' 'Nigeria'\n",
      " 'Indonesia']\n",
      "[2.75828210e+07 2.86562820e+07 3.13766710e+07 3.37364940e+07\n",
      " 3.61156490e+07 3.79864120e+07 3.98715280e+07 4.34177650e+07\n",
      " 4.64476970e+07 4.72362590e+07 4.82286970e+07 7.82714720e+07\n",
      " 8.16866110e+07 1.81181744e+08 2.58162113e+08]\n"
     ]
    }
   ],
   "source": [
    "pop_country = pop[-15:]['Country'].values\n",
    "pop_pop = pop[-15:]['Population'].values\n",
    "\n",
    "print(pop_country)\n",
    "print(pop_pop)"
   ]
  },
  {
   "cell_type": "code",
   "execution_count": 17,
   "id": "446dcbba",
   "metadata": {},
   "outputs": [
    {
     "data": {
      "text/plain": [
       "1186      1395398.0\n",
       "1202    258162113.0\n",
       "Name: Population, dtype: float64"
      ]
     },
     "execution_count": 17,
     "metadata": {},
     "output_type": "execute_result"
    }
   ],
   "source": [
    "pop[(pop['Country']=='India') | (pop['Country']=='Indonesia')]['Population']"
   ]
  },
  {
   "cell_type": "code",
   "execution_count": 18,
   "id": "b26b186e",
   "metadata": {
    "scrolled": false
   },
   "outputs": [
    {
     "data": {
      "image/png": "[encoded data removed]",
      "text/plain": [
       "<Figure size 864x504 with 1 Axes>"
      ]
     },
     "metadata": {
      "needs_background": "light"
     },
     "output_type": "display_data"
    }
   ],
   "source": [
    "plt.figure(figsize=(12,7))\n",
    "\n",
    "plt.title('15 negara dengan jumlah populasi terbesar (2015)')\n",
    "plt.bar(pop_country, pop_pop, \n",
    "         zorder=2, color=['#69C6AF']*15)\n",
    "plt.grid(zorder=1)\n",
    "\n",
    "plt.xticks(rotation=45)\n",
    "plt.ylabel('Jumlah populasi (dalam ratus juta penduduk)')\n",
    "\n",
    "for i in range(15):\n",
    "    plt.text(i-0.35, pop_pop[i]+2500000, \n",
    "             np.round(int(pop_pop[i])/100000000,2), fontsize=13)\n",
    "\n",
    "plt.show()"
   ]
  },
  {
   "cell_type": "code",
   "execution_count": 19,
   "id": "da532961",
   "metadata": {
    "scrolled": true
   },
   "outputs": [
    {
     "data": {
      "text/html": [
       "<div>\n",
       "<style scoped>\n",
       "    .dataframe tbody tr th:only-of-type {\n",
       "        vertical-align: middle;\n",
       "    }\n",
       "\n",
       "    .dataframe tbody tr th {\n",
       "        vertical-align: top;\n",
       "    }\n",
       "\n",
       "    .dataframe thead th {\n",
       "        text-align: right;\n",
       "    }\n",
       "</style>\n",
       "<table border=\"1\" class=\"dataframe\">\n",
       "  <thead>\n",
       "    <tr style=\"text-align: right;\">\n",
       "      <th></th>\n",
       "      <th>Year</th>\n",
       "      <th>Population</th>\n",
       "    </tr>\n",
       "  </thead>\n",
       "  <tbody>\n",
       "    <tr>\n",
       "      <th>1202</th>\n",
       "      <td>2015</td>\n",
       "      <td>258162113.0</td>\n",
       "    </tr>\n",
       "    <tr>\n",
       "      <th>1203</th>\n",
       "      <td>2014</td>\n",
       "      <td>255131116.0</td>\n",
       "    </tr>\n",
       "    <tr>\n",
       "      <th>1204</th>\n",
       "      <td>2013</td>\n",
       "      <td>25232263.0</td>\n",
       "    </tr>\n",
       "    <tr>\n",
       "      <th>1205</th>\n",
       "      <td>2012</td>\n",
       "      <td>248883232.0</td>\n",
       "    </tr>\n",
       "    <tr>\n",
       "      <th>1206</th>\n",
       "      <td>2011</td>\n",
       "      <td>24577511.0</td>\n",
       "    </tr>\n",
       "    <tr>\n",
       "      <th>1207</th>\n",
       "      <td>2010</td>\n",
       "      <td>242524123.0</td>\n",
       "    </tr>\n",
       "    <tr>\n",
       "      <th>1208</th>\n",
       "      <td>2009</td>\n",
       "      <td>23934478.0</td>\n",
       "    </tr>\n",
       "    <tr>\n",
       "      <th>1209</th>\n",
       "      <td>2008</td>\n",
       "      <td>236159276.0</td>\n",
       "    </tr>\n",
       "    <tr>\n",
       "      <th>1210</th>\n",
       "      <td>2007</td>\n",
       "      <td>232989141.0</td>\n",
       "    </tr>\n",
       "    <tr>\n",
       "      <th>1211</th>\n",
       "      <td>2006</td>\n",
       "      <td>22983822.0</td>\n",
       "    </tr>\n",
       "    <tr>\n",
       "      <th>1212</th>\n",
       "      <td>2005</td>\n",
       "      <td>22671273.0</td>\n",
       "    </tr>\n",
       "    <tr>\n",
       "      <th>1213</th>\n",
       "      <td>2004</td>\n",
       "      <td>223614649.0</td>\n",
       "    </tr>\n",
       "    <tr>\n",
       "      <th>1214</th>\n",
       "      <td>2003</td>\n",
       "      <td>22545214.0</td>\n",
       "    </tr>\n",
       "    <tr>\n",
       "      <th>1215</th>\n",
       "      <td>2002</td>\n",
       "      <td>2175859.0</td>\n",
       "    </tr>\n",
       "    <tr>\n",
       "      <th>1216</th>\n",
       "      <td>2001</td>\n",
       "      <td>2145652.0</td>\n",
       "    </tr>\n",
       "    <tr>\n",
       "      <th>1217</th>\n",
       "      <td>2000</td>\n",
       "      <td>21154429.0</td>\n",
       "    </tr>\n",
       "  </tbody>\n",
       "</table>\n",
       "</div>"
      ],
      "text/plain": [
       "      Year   Population\n",
       "1202  2015  258162113.0\n",
       "1203  2014  255131116.0\n",
       "1204  2013   25232263.0\n",
       "1205  2012  248883232.0\n",
       "1206  2011   24577511.0\n",
       "1207  2010  242524123.0\n",
       "1208  2009   23934478.0\n",
       "1209  2008  236159276.0\n",
       "1210  2007  232989141.0\n",
       "1211  2006   22983822.0\n",
       "1212  2005   22671273.0\n",
       "1213  2004  223614649.0\n",
       "1214  2003   22545214.0\n",
       "1215  2002    2175859.0\n",
       "1216  2001    2145652.0\n",
       "1217  2000   21154429.0"
      ]
     },
     "execution_count": 19,
     "metadata": {},
     "output_type": "execute_result"
    }
   ],
   "source": [
    "pop_indo = df[df['Country'] == 'Indonesia']\n",
    "pop_nigeria = df[df['Country'] == 'Nigeria' ]\n",
    "pop_germany = df[df['Country'] == 'Germany']\n",
    "\n",
    "pop_indo[['Year', 'Population']]"
   ]
  },
  {
   "cell_type": "code",
   "execution_count": 20,
   "id": "23f1b306",
   "metadata": {},
   "outputs": [
    {
     "data": {
      "image/png": "[encoded data removed]",
      "text/plain": [
       "<Figure size 1008x216 with 3 Axes>"
      ]
     },
     "metadata": {
      "needs_background": "light"
     },
     "output_type": "display_data"
    }
   ],
   "source": [
    "fig, axes = plt.subplots(nrows=1, ncols=3, \n",
    "                         figsize=(14, 3), sharey=True)\n",
    "fig.tight_layout()\n",
    "\n",
    "countries = ['Indonesia', 'Nigeria', 'Germany']\n",
    "pop_data = [pop_indo, pop_nigeria, pop_germany]\n",
    "colors = ['#4EADAF', '#377A98', '#140951']\n",
    "\n",
    "axes[0].set_ylabel('Populasi (ratus juta)')\n",
    "\n",
    "for i in range(3):\n",
    "\n",
    "    axes[i].set_title(countries[i])\n",
    "    axes[i].plot(pop_data[i]['Year'], pop_data[i]['Population'], color=colors[i], marker='o', zorder=2)\n",
    "    axes[i].grid(zorder=1)\n",
    "    axes[i].set_xlabel('Tahun')\n",
    "    \n",
    "plt.show()"
   ]
  },
  {
   "cell_type": "code",
   "execution_count": 21,
   "id": "f723e45e",
   "metadata": {},
   "outputs": [],
   "source": [
    "under_five_indonesia  = df[df['Country'] == 'Indonesia']\n",
    "under_five_bangladesh = df[df['Country'] == 'Bangladesh']\n",
    "under_five_ethiopia   = df[df['Country'] == 'Ethiopia']\n",
    "under_five_pakistan   = df[df['Country'] == 'Pakistan']\n",
    "under_five_australia  = df[df['Country'] == 'Australia']"
   ]
  },
  {
   "cell_type": "code",
   "execution_count": 22,
   "id": "e26489f5",
   "metadata": {
    "scrolled": false
   },
   "outputs": [
    {
     "data": {
      "image/png": "[encoded data removed]",
      "text/plain": [
       "<Figure size 792x432 with 1 Axes>"
      ]
     },
     "metadata": {
      "needs_background": "light"
     },
     "output_type": "display_data"
    }
   ],
   "source": [
    "plt.figure(figsize=(11,6))\n",
    "plt.title('Jumlah kematian anak di bawah 5 tahun di Indonesia, Bangladesh, Ethiopia, Pakistan, dan Australia')\n",
    "\n",
    "plt.plot(under_five_indonesia['Year'], \n",
    "         under_five_indonesia['under-five deaths '], lw=4)\n",
    "plt.plot(under_five_bangladesh['Year'], \n",
    "         under_five_bangladesh['under-five deaths '], lw=4)\n",
    "plt.plot(under_five_ethiopia['Year'], \n",
    "         under_five_ethiopia['under-five deaths '], lw=4)\n",
    "plt.plot(under_five_pakistan['Year'], \n",
    "         under_five_pakistan['under-five deaths '], lw=4)\n",
    "plt.plot(under_five_australia['Year'], \n",
    "         under_five_australia['under-five deaths '], lw=4)\n",
    "\n",
    "plt.legend(['Indonesia', 'Bangladesh', 'Ethiopia', 'Pakistan', 'Australia'])\n",
    "plt.xlabel('Tahun')\n",
    "plt.ylabel('Angka kematian')\n",
    "plt.grid()\n",
    "plt.show()"
   ]
  }
 ],
 "metadata": {
  "kernelspec": {
   "display_name": "Python 3 (ipykernel)",
   "language": "python",
   "name": "python3"
  },
  "language_info": {
   "codemirror_mode": {
    "name": "ipython",
    "version": 3
   },
   "file_extension": ".py",
   "mimetype": "text/x-python",
   "name": "python",
   "nbconvert_exporter": "python",
   "pygments_lexer": "ipython3",
   "version": "3.9.7"
  }
 },
 "nbformat": 4,
 "nbformat_minor": 5
}
